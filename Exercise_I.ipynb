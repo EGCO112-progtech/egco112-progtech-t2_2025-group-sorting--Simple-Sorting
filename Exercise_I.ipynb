{
  "nbformat": 4,
  "nbformat_minor": 0,
  "metadata": {
    "colab": {
      "provenance": [],
      "authorship_tag": "ABX9TyNqsgYDIXPidxiqOZrEqbsi",
      "include_colab_link": true
    },
    "kernelspec": {
      "name": "python3",
      "display_name": "Python 3"
    },
    "language_info": {
      "name": "python"
    }
  },
  "cells": [
    {
      "cell_type": "markdown",
      "metadata": {
        "id": "view-in-github",
        "colab_type": "text"
      },
      "source": [
        "<a href=\"https://colab.research.google.com/github/AjMing/-Simple-Sorting/blob/master/Exercise_I.ipynb\" target=\"_parent\"><img src=\"https://colab.research.google.com/assets/colab-badge.svg\" alt=\"Open In Colab\"/></a>"
      ]
    },
    {
      "cell_type": "markdown",
      "source": [
        "***Here is BASIC PYTHON commands***"
      ],
      "metadata": {
        "id": "YGiDMtv8WANV"
      }
    },
    {
      "cell_type": "markdown",
      "source": [
        "*To print value*"
      ],
      "metadata": {
        "id": "kjFZVvxxWF4h"
      }
    },
    {
      "cell_type": "code",
      "execution_count": null,
      "metadata": {
        "colab": {
          "base_uri": "https://localhost:8080/"
        },
        "id": "j8YxxYrhV8u3",
        "outputId": "f1c8809a-fe1a-48ba-97e9-13d4fe93ee86"
      },
      "outputs": [
        {
          "output_type": "stream",
          "name": "stdout",
          "text": [
            "12\n"
          ]
        }
      ],
      "source": [
        "print(7+5)"
      ]
    },
    {
      "cell_type": "markdown",
      "source": [
        "Data type"
      ],
      "metadata": {
        "id": "4UXVpkLRWRQ8"
      }
    },
    {
      "cell_type": "code",
      "source": [
        "a=5\n",
        "b=6\n",
        "print(type(a))  #Check data type\n",
        "c= float(a+b)\n",
        "print(type(c) )"
      ],
      "metadata": {
        "colab": {
          "base_uri": "https://localhost:8080/"
        },
        "id": "gFk6KesSWKwF",
        "outputId": "4c37ad0b-40b2-424c-da73-931e6d79c0f4"
      },
      "execution_count": null,
      "outputs": [
        {
          "output_type": "stream",
          "name": "stdout",
          "text": [
            "<class 'int'>\n",
            "<class 'float'>\n"
          ]
        }
      ]
    },
    {
      "cell_type": "code",
      "source": [
        "a=10+20\n",
        "print(a)\n",
        "print(type(a))\n",
        "s=\"Good morning\"\n",
        "print(type(s))\n",
        "print(s + \" \"+str(a));\n"
      ],
      "metadata": {
        "colab": {
          "base_uri": "https://localhost:8080/"
        },
        "id": "EWcgrEYXWhZc",
        "outputId": "3fce3081-7b1f-4b03-9235-82e9ce0b32d0"
      },
      "execution_count": null,
      "outputs": [
        {
          "output_type": "stream",
          "name": "stdout",
          "text": [
            "30\n",
            "<class 'int'>\n",
            "<class 'str'>\n",
            "Good morning 30\n"
          ]
        }
      ]
    },
    {
      "cell_type": "markdown",
      "source": [
        "Function"
      ],
      "metadata": {
        "id": "Sc7URN7SXli9"
      }
    },
    {
      "cell_type": "code",
      "source": [
        "def square(x):\n",
        "  return x**2 #indent is required"
      ],
      "metadata": {
        "id": "IQXWhst3XQYM"
      },
      "execution_count": null,
      "outputs": []
    },
    {
      "cell_type": "code",
      "source": [
        "print(square(4))"
      ],
      "metadata": {
        "colab": {
          "base_uri": "https://localhost:8080/"
        },
        "id": "LSHgcD7rXqea",
        "outputId": "063df810-e606-4bfc-b4b3-6b3c2fa01729"
      },
      "execution_count": null,
      "outputs": [
        {
          "output_type": "stream",
          "name": "stdout",
          "text": [
            "16\n"
          ]
        }
      ]
    },
    {
      "cell_type": "markdown",
      "source": [
        "List"
      ],
      "metadata": {
        "id": "WFDpFDUNY0AK"
      }
    },
    {
      "cell_type": "code",
      "source": [
        "a=10\n",
        "b=\"haha\"\n",
        "c=10.9\n",
        "ls=[a , b,c]  # , is used to separate each data type\n",
        "print(ls)\n",
        "print(type(ls))"
      ],
      "metadata": {
        "colab": {
          "base_uri": "https://localhost:8080/"
        },
        "id": "fRRARl3bXs_6",
        "outputId": "f369b24c-f19b-4024-d331-9b5c62c6dbae"
      },
      "execution_count": null,
      "outputs": [
        {
          "output_type": "stream",
          "name": "stdout",
          "text": [
            "[10, 'haha', 10.9]\n",
            "<class 'list'>\n"
          ]
        }
      ]
    },
    {
      "cell_type": "code",
      "source": [
        "print(ls[1])\n",
        "print(ls[-1])\n"
      ],
      "metadata": {
        "colab": {
          "base_uri": "https://localhost:8080/"
        },
        "id": "wihuaTNVY_hG",
        "outputId": "543e9f02-6342-4ce0-a263-275f562923de"
      },
      "execution_count": null,
      "outputs": [
        {
          "output_type": "stream",
          "name": "stdout",
          "text": [
            "haha\n",
            "10.9\n"
          ]
        }
      ]
    },
    {
      "cell_type": "code",
      "source": [
        "print(ls[1:2])\n",
        "print(ls[:3])\n",
        "print(ls[1:])\n"
      ],
      "metadata": {
        "colab": {
          "base_uri": "https://localhost:8080/"
        },
        "id": "627Bz-wHZDqZ",
        "outputId": "b413553d-f4a4-4c75-9129-ed9e7f5c37bd"
      },
      "execution_count": null,
      "outputs": [
        {
          "output_type": "stream",
          "name": "stdout",
          "text": [
            "['haha']\n",
            "[10, 'haha', 10.9]\n",
            "['haha', 10.9]\n"
          ]
        }
      ]
    },
    {
      "cell_type": "markdown",
      "source": [
        "LOOP"
      ],
      "metadata": {
        "id": "KW0izv58ANZd"
      }
    },
    {
      "cell_type": "code",
      "source": [
        "for x in range(5):\n",
        "    print(x)"
      ],
      "metadata": {
        "colab": {
          "base_uri": "https://localhost:8080/"
        },
        "id": "WPj0-SvUZOZM",
        "outputId": "34cf2f1d-3744-4726-b673-814f66b02fd2"
      },
      "execution_count": null,
      "outputs": [
        {
          "output_type": "stream",
          "name": "stdout",
          "text": [
            "0\n",
            "1\n",
            "2\n",
            "3\n",
            "4\n"
          ]
        }
      ]
    },
    {
      "cell_type": "code",
      "source": [
        "for x in range(2,5):\n",
        "    print(x)"
      ],
      "metadata": {
        "colab": {
          "base_uri": "https://localhost:8080/"
        },
        "id": "cPy9JvFxASwq",
        "outputId": "98242a33-f746-4382-a706-a46ee9221a81"
      },
      "execution_count": null,
      "outputs": [
        {
          "output_type": "stream",
          "name": "stdout",
          "text": [
            "2\n",
            "3\n",
            "4\n"
          ]
        }
      ]
    },
    {
      "cell_type": "markdown",
      "source": [
        "Import Library"
      ],
      "metadata": {
        "id": "abnfebreAcHW"
      }
    },
    {
      "cell_type": "code",
      "source": [
        "height=[1.56, 1.79 ,1.89]\n",
        "sq_height=height**2"
      ],
      "metadata": {
        "colab": {
          "base_uri": "https://localhost:8080/",
          "height": 193
        },
        "id": "wLInwbOFAnYb",
        "outputId": "4c50a744-af67-4990-8585-963f2449aa97"
      },
      "execution_count": null,
      "outputs": [
        {
          "output_type": "error",
          "ename": "TypeError",
          "evalue": "ignored",
          "traceback": [
            "\u001b[0;31m---------------------------------------------------------------------------\u001b[0m",
            "\u001b[0;31mTypeError\u001b[0m                                 Traceback (most recent call last)",
            "\u001b[0;32m<ipython-input-3-694c33bd4d6f>\u001b[0m in \u001b[0;36m<module>\u001b[0;34m()\u001b[0m\n\u001b[1;32m      1\u001b[0m \u001b[0mheight\u001b[0m\u001b[0;34m=\u001b[0m\u001b[0;34m[\u001b[0m\u001b[0;36m1.56\u001b[0m\u001b[0;34m,\u001b[0m \u001b[0;36m1.79\u001b[0m \u001b[0;34m,\u001b[0m\u001b[0;36m1.89\u001b[0m\u001b[0;34m]\u001b[0m\u001b[0;34m\u001b[0m\u001b[0;34m\u001b[0m\u001b[0m\n\u001b[0;32m----> 2\u001b[0;31m \u001b[0msq_height\u001b[0m\u001b[0;34m=\u001b[0m\u001b[0mheight\u001b[0m\u001b[0;34m**\u001b[0m\u001b[0;36m2\u001b[0m\u001b[0;34m\u001b[0m\u001b[0;34m\u001b[0m\u001b[0m\n\u001b[0m",
            "\u001b[0;31mTypeError\u001b[0m: unsupported operand type(s) for ** or pow(): 'list' and 'int'"
          ]
        }
      ]
    },
    {
      "cell_type": "code",
      "source": [
        "\n",
        "import numpy\n",
        "np_height=numpy.array(height)\n",
        "sq_height=np_height**2"
      ],
      "metadata": {
        "id": "YdDstj6cAXh3"
      },
      "execution_count": null,
      "outputs": []
    },
    {
      "cell_type": "code",
      "source": [
        "import numpy as np\n",
        "x=np.array([1, 2 ,-1])\n",
        "print(x>0)"
      ],
      "metadata": {
        "colab": {
          "base_uri": "https://localhost:8080/"
        },
        "id": "n24Of40MAts3",
        "outputId": "21d7a924-0b1e-4fde-e213-f590429a5c52"
      },
      "execution_count": null,
      "outputs": [
        {
          "output_type": "stream",
          "name": "stdout",
          "text": [
            "[ True  True False]\n"
          ]
        }
      ]
    },
    {
      "cell_type": "code",
      "source": [
        "y=x[x>0]\n",
        "print(y)"
      ],
      "metadata": {
        "colab": {
          "base_uri": "https://localhost:8080/"
        },
        "id": "YB_43fQIA9_m",
        "outputId": "0f594d75-1d36-442a-e6a3-f9354fa4d047"
      },
      "execution_count": null,
      "outputs": [
        {
          "output_type": "stream",
          "name": "stdout",
          "text": [
            "[2]\n"
          ]
        }
      ]
    },
    {
      "cell_type": "code",
      "source": [
        "arr=numpy.array([[1,2,3],[4,5,6]])\n",
        "print(arr[0])\n",
        "print(arr[0,1])\n",
        "print(arr[1][0])"
      ],
      "metadata": {
        "colab": {
          "base_uri": "https://localhost:8080/"
        },
        "id": "SuwOEETjBGoY",
        "outputId": "a3a0806f-eb8d-48c9-8965-9228530b76b1"
      },
      "execution_count": null,
      "outputs": [
        {
          "output_type": "stream",
          "name": "stdout",
          "text": [
            "[1 2 3]\n",
            "2\n",
            "4\n"
          ]
        }
      ]
    },
    {
      "cell_type": "code",
      "source": [
        "print(np.mean(arr))"
      ],
      "metadata": {
        "colab": {
          "base_uri": "https://localhost:8080/"
        },
        "id": "nYvRzO_CBXt6",
        "outputId": "32ed8d18-7b7b-4a6d-e02e-64d2789d2c7d"
      },
      "execution_count": null,
      "outputs": [
        {
          "output_type": "stream",
          "name": "stdout",
          "text": [
            "3.5\n"
          ]
        }
      ]
    },
    {
      "cell_type": "code",
      "source": [
        "print(np.mean(arr[1]))"
      ],
      "metadata": {
        "colab": {
          "base_uri": "https://localhost:8080/"
        },
        "id": "n3Ixecv9BsR9",
        "outputId": "90e605e5-4095-4cdd-9f9d-c63c4cd195b3"
      },
      "execution_count": null,
      "outputs": [
        {
          "output_type": "stream",
          "name": "stdout",
          "text": [
            "5.0\n"
          ]
        }
      ]
    },
    {
      "cell_type": "code",
      "source": [
        "A=np.array([[1,1],[1,2],[1,3]])\n",
        "B=np.array([[2,1],[2,2],[2,3]])\n",
        "C=A@B.T\n",
        "print(C)"
      ],
      "metadata": {
        "colab": {
          "base_uri": "https://localhost:8080/"
        },
        "id": "9964U8UtBu9t",
        "outputId": "3ca6c83b-a345-4a83-fa9d-95bff1f0dcac"
      },
      "execution_count": null,
      "outputs": [
        {
          "output_type": "stream",
          "name": "stdout",
          "text": [
            "[[ 3  4  5]\n",
            " [ 4  6  8]\n",
            " [ 5  8 11]]\n"
          ]
        }
      ]
    },
    {
      "cell_type": "code",
      "source": [
        "np.random.seed(0)\n",
        "np.random.random(3)"
      ],
      "metadata": {
        "colab": {
          "base_uri": "https://localhost:8080/"
        },
        "id": "wDSIEDd9B58_",
        "outputId": "a79674c2-57b8-401b-9a21-db349eb0d4fa"
      },
      "execution_count": null,
      "outputs": [
        {
          "output_type": "execute_result",
          "data": {
            "text/plain": [
              "array([0.5488135 , 0.71518937, 0.60276338])"
            ]
          },
          "metadata": {},
          "execution_count": 19
        }
      ]
    },
    {
      "cell_type": "code",
      "source": [],
      "metadata": {
        "id": "AlPxZ-2pCRmj"
      },
      "execution_count": null,
      "outputs": []
    }
  ]
}