{
  "nbformat": 4,
  "nbformat_minor": 0,
  "metadata": {
    "colab": {
      "provenance": [],
      "authorship_tag": "ABX9TyOTN8vk98Q+yqpskYfyXJep",
      "include_colab_link": true
    },
    "kernelspec": {
      "name": "python3",
      "display_name": "Python 3"
    },
    "language_info": {
      "name": "python"
    }
  },
  "cells": [
    {
      "cell_type": "markdown",
      "metadata": {
        "id": "view-in-github",
        "colab_type": "text"
      },
      "source": [
        "<a href=\"https://colab.research.google.com/github/AjMing/-Simple-Sorting/blob/master/Week3/Demo_Basic_Digit_recognition_with_Simple_Bayes.ipynb\" target=\"_parent\"><img src=\"https://colab.research.google.com/assets/colab-badge.svg\" alt=\"Open In Colab\"/></a>"
      ]
    },
    {
      "cell_type": "markdown",
      "source": [
        "# Load files for 2 digits"
      ],
      "metadata": {
        "id": "Vy8SdLdmXr0n"
      }
    },
    {
      "cell_type": "markdown",
      "source": [],
      "metadata": {
        "id": "P2sBH0kBnhXc"
      }
    },
    {
      "cell_type": "code",
      "source": [
        "import io\n",
        "from google.colab import files\n",
        "uploaded = files.upload()\n"
      ],
      "metadata": {
        "colab": {
          "base_uri": "https://localhost:8080/",
          "height": 109
        },
        "id": "Pk3QqYCmE3bP",
        "outputId": "fbdd7dff-b3fd-4642-8882-b32f893fa17f"
      },
      "execution_count": null,
      "outputs": [
        {
          "output_type": "display_data",
          "data": {
            "text/plain": [
              "<IPython.core.display.HTML object>"
            ],
            "text/html": [
              "\n",
              "     <input type=\"file\" id=\"files-51056d9c-4595-4c01-83cb-264c1b8c0180\" name=\"files[]\" multiple disabled\n",
              "        style=\"border:none\" />\n",
              "     <output id=\"result-51056d9c-4595-4c01-83cb-264c1b8c0180\">\n",
              "      Upload widget is only available when the cell has been executed in the\n",
              "      current browser session. Please rerun this cell to enable.\n",
              "      </output>\n",
              "      <script>// Copyright 2017 Google LLC\n",
              "//\n",
              "// Licensed under the Apache License, Version 2.0 (the \"License\");\n",
              "// you may not use this file except in compliance with the License.\n",
              "// You may obtain a copy of the License at\n",
              "//\n",
              "//      http://www.apache.org/licenses/LICENSE-2.0\n",
              "//\n",
              "// Unless required by applicable law or agreed to in writing, software\n",
              "// distributed under the License is distributed on an \"AS IS\" BASIS,\n",
              "// WITHOUT WARRANTIES OR CONDITIONS OF ANY KIND, either express or implied.\n",
              "// See the License for the specific language governing permissions and\n",
              "// limitations under the License.\n",
              "\n",
              "/**\n",
              " * @fileoverview Helpers for google.colab Python module.\n",
              " */\n",
              "(function(scope) {\n",
              "function span(text, styleAttributes = {}) {\n",
              "  const element = document.createElement('span');\n",
              "  element.textContent = text;\n",
              "  for (const key of Object.keys(styleAttributes)) {\n",
              "    element.style[key] = styleAttributes[key];\n",
              "  }\n",
              "  return element;\n",
              "}\n",
              "\n",
              "// Max number of bytes which will be uploaded at a time.\n",
              "const MAX_PAYLOAD_SIZE = 100 * 1024;\n",
              "\n",
              "function _uploadFiles(inputId, outputId) {\n",
              "  const steps = uploadFilesStep(inputId, outputId);\n",
              "  const outputElement = document.getElementById(outputId);\n",
              "  // Cache steps on the outputElement to make it available for the next call\n",
              "  // to uploadFilesContinue from Python.\n",
              "  outputElement.steps = steps;\n",
              "\n",
              "  return _uploadFilesContinue(outputId);\n",
              "}\n",
              "\n",
              "// This is roughly an async generator (not supported in the browser yet),\n",
              "// where there are multiple asynchronous steps and the Python side is going\n",
              "// to poll for completion of each step.\n",
              "// This uses a Promise to block the python side on completion of each step,\n",
              "// then passes the result of the previous step as the input to the next step.\n",
              "function _uploadFilesContinue(outputId) {\n",
              "  const outputElement = document.getElementById(outputId);\n",
              "  const steps = outputElement.steps;\n",
              "\n",
              "  const next = steps.next(outputElement.lastPromiseValue);\n",
              "  return Promise.resolve(next.value.promise).then((value) => {\n",
              "    // Cache the last promise value to make it available to the next\n",
              "    // step of the generator.\n",
              "    outputElement.lastPromiseValue = value;\n",
              "    return next.value.response;\n",
              "  });\n",
              "}\n",
              "\n",
              "/**\n",
              " * Generator function which is called between each async step of the upload\n",
              " * process.\n",
              " * @param {string} inputId Element ID of the input file picker element.\n",
              " * @param {string} outputId Element ID of the output display.\n",
              " * @return {!Iterable<!Object>} Iterable of next steps.\n",
              " */\n",
              "function* uploadFilesStep(inputId, outputId) {\n",
              "  const inputElement = document.getElementById(inputId);\n",
              "  inputElement.disabled = false;\n",
              "\n",
              "  const outputElement = document.getElementById(outputId);\n",
              "  outputElement.innerHTML = '';\n",
              "\n",
              "  const pickedPromise = new Promise((resolve) => {\n",
              "    inputElement.addEventListener('change', (e) => {\n",
              "      resolve(e.target.files);\n",
              "    });\n",
              "  });\n",
              "\n",
              "  const cancel = document.createElement('button');\n",
              "  inputElement.parentElement.appendChild(cancel);\n",
              "  cancel.textContent = 'Cancel upload';\n",
              "  const cancelPromise = new Promise((resolve) => {\n",
              "    cancel.onclick = () => {\n",
              "      resolve(null);\n",
              "    };\n",
              "  });\n",
              "\n",
              "  // Wait for the user to pick the files.\n",
              "  const files = yield {\n",
              "    promise: Promise.race([pickedPromise, cancelPromise]),\n",
              "    response: {\n",
              "      action: 'starting',\n",
              "    }\n",
              "  };\n",
              "\n",
              "  cancel.remove();\n",
              "\n",
              "  // Disable the input element since further picks are not allowed.\n",
              "  inputElement.disabled = true;\n",
              "\n",
              "  if (!files) {\n",
              "    return {\n",
              "      response: {\n",
              "        action: 'complete',\n",
              "      }\n",
              "    };\n",
              "  }\n",
              "\n",
              "  for (const file of files) {\n",
              "    const li = document.createElement('li');\n",
              "    li.append(span(file.name, {fontWeight: 'bold'}));\n",
              "    li.append(span(\n",
              "        `(${file.type || 'n/a'}) - ${file.size} bytes, ` +\n",
              "        `last modified: ${\n",
              "            file.lastModifiedDate ? file.lastModifiedDate.toLocaleDateString() :\n",
              "                                    'n/a'} - `));\n",
              "    const percent = span('0% done');\n",
              "    li.appendChild(percent);\n",
              "\n",
              "    outputElement.appendChild(li);\n",
              "\n",
              "    const fileDataPromise = new Promise((resolve) => {\n",
              "      const reader = new FileReader();\n",
              "      reader.onload = (e) => {\n",
              "        resolve(e.target.result);\n",
              "      };\n",
              "      reader.readAsArrayBuffer(file);\n",
              "    });\n",
              "    // Wait for the data to be ready.\n",
              "    let fileData = yield {\n",
              "      promise: fileDataPromise,\n",
              "      response: {\n",
              "        action: 'continue',\n",
              "      }\n",
              "    };\n",
              "\n",
              "    // Use a chunked sending to avoid message size limits. See b/62115660.\n",
              "    let position = 0;\n",
              "    do {\n",
              "      const length = Math.min(fileData.byteLength - position, MAX_PAYLOAD_SIZE);\n",
              "      const chunk = new Uint8Array(fileData, position, length);\n",
              "      position += length;\n",
              "\n",
              "      const base64 = btoa(String.fromCharCode.apply(null, chunk));\n",
              "      yield {\n",
              "        response: {\n",
              "          action: 'append',\n",
              "          file: file.name,\n",
              "          data: base64,\n",
              "        },\n",
              "      };\n",
              "\n",
              "      let percentDone = fileData.byteLength === 0 ?\n",
              "          100 :\n",
              "          Math.round((position / fileData.byteLength) * 100);\n",
              "      percent.textContent = `${percentDone}% done`;\n",
              "\n",
              "    } while (position < fileData.byteLength);\n",
              "  }\n",
              "\n",
              "  // All done.\n",
              "  yield {\n",
              "    response: {\n",
              "      action: 'complete',\n",
              "    }\n",
              "  };\n",
              "}\n",
              "\n",
              "scope.google = scope.google || {};\n",
              "scope.google.colab = scope.google.colab || {};\n",
              "scope.google.colab._files = {\n",
              "  _uploadFiles,\n",
              "  _uploadFilesContinue,\n",
              "};\n",
              "})(self);\n",
              "</script> "
            ]
          },
          "metadata": {}
        },
        {
          "output_type": "stream",
          "name": "stdout",
          "text": [
            "Saving digit_1.csv to digit_1 (1).csv\n",
            "Saving digit_0.csv to digit_0 (1).csv\n"
          ]
        }
      ]
    },
    {
      "cell_type": "code",
      "source": [
        "import pandas as pd\n",
        "df0 = pd.read_csv(io.BytesIO(uploaded[\"digit_0 (1).csv\"]),header=None)\n",
        "df1 = pd.read_csv(io.BytesIO(uploaded[\"digit_1 (1).csv\"]),header=None)\n",
        "\n",
        "# Dataset is now stored in a Pandas Dataframe"
      ],
      "metadata": {
        "id": "kJLHT5c_fb1I"
      },
      "execution_count": null,
      "outputs": []
    },
    {
      "cell_type": "code",
      "source": [
        "df0\n"
      ],
      "metadata": {
        "colab": {
          "base_uri": "https://localhost:8080/",
          "height": 143
        },
        "id": "hkR5jtcMFSO9",
        "outputId": "a42671b9-d2c1-4fa4-a23d-b34e14191057"
      },
      "execution_count": null,
      "outputs": [
        {
          "output_type": "execute_result",
          "data": {
            "text/plain": [
              "   0   1   2   3   4   5   6   7   8   9   10  11\n",
              "0   0   1   1   0   1   0   0   1   0   1   1   0\n",
              "1   1   1   1   1   1   0   0   1   1   1   1   1\n",
              "2   1   1   1   0   1   0   0   1   0   1   1   1"
            ],
            "text/html": [
              "\n",
              "  <div id=\"df-399e95ca-fa78-401e-8d6a-5e9500b4fbd5\" class=\"colab-df-container\">\n",
              "    <div>\n",
              "<style scoped>\n",
              "    .dataframe tbody tr th:only-of-type {\n",
              "        vertical-align: middle;\n",
              "    }\n",
              "\n",
              "    .dataframe tbody tr th {\n",
              "        vertical-align: top;\n",
              "    }\n",
              "\n",
              "    .dataframe thead th {\n",
              "        text-align: right;\n",
              "    }\n",
              "</style>\n",
              "<table border=\"1\" class=\"dataframe\">\n",
              "  <thead>\n",
              "    <tr style=\"text-align: right;\">\n",
              "      <th></th>\n",
              "      <th>0</th>\n",
              "      <th>1</th>\n",
              "      <th>2</th>\n",
              "      <th>3</th>\n",
              "      <th>4</th>\n",
              "      <th>5</th>\n",
              "      <th>6</th>\n",
              "      <th>7</th>\n",
              "      <th>8</th>\n",
              "      <th>9</th>\n",
              "      <th>10</th>\n",
              "      <th>11</th>\n",
              "    </tr>\n",
              "  </thead>\n",
              "  <tbody>\n",
              "    <tr>\n",
              "      <th>0</th>\n",
              "      <td>0</td>\n",
              "      <td>1</td>\n",
              "      <td>1</td>\n",
              "      <td>0</td>\n",
              "      <td>1</td>\n",
              "      <td>0</td>\n",
              "      <td>0</td>\n",
              "      <td>1</td>\n",
              "      <td>0</td>\n",
              "      <td>1</td>\n",
              "      <td>1</td>\n",
              "      <td>0</td>\n",
              "    </tr>\n",
              "    <tr>\n",
              "      <th>1</th>\n",
              "      <td>1</td>\n",
              "      <td>1</td>\n",
              "      <td>1</td>\n",
              "      <td>1</td>\n",
              "      <td>1</td>\n",
              "      <td>0</td>\n",
              "      <td>0</td>\n",
              "      <td>1</td>\n",
              "      <td>1</td>\n",
              "      <td>1</td>\n",
              "      <td>1</td>\n",
              "      <td>1</td>\n",
              "    </tr>\n",
              "    <tr>\n",
              "      <th>2</th>\n",
              "      <td>1</td>\n",
              "      <td>1</td>\n",
              "      <td>1</td>\n",
              "      <td>0</td>\n",
              "      <td>1</td>\n",
              "      <td>0</td>\n",
              "      <td>0</td>\n",
              "      <td>1</td>\n",
              "      <td>0</td>\n",
              "      <td>1</td>\n",
              "      <td>1</td>\n",
              "      <td>1</td>\n",
              "    </tr>\n",
              "  </tbody>\n",
              "</table>\n",
              "</div>\n",
              "    <div class=\"colab-df-buttons\">\n",
              "\n",
              "  <div class=\"colab-df-container\">\n",
              "    <button class=\"colab-df-convert\" onclick=\"convertToInteractive('df-399e95ca-fa78-401e-8d6a-5e9500b4fbd5')\"\n",
              "            title=\"Convert this dataframe to an interactive table.\"\n",
              "            style=\"display:none;\">\n",
              "\n",
              "  <svg xmlns=\"http://www.w3.org/2000/svg\" height=\"24px\" viewBox=\"0 -960 960 960\">\n",
              "    <path d=\"M120-120v-720h720v720H120Zm60-500h600v-160H180v160Zm220 220h160v-160H400v160Zm0 220h160v-160H400v160ZM180-400h160v-160H180v160Zm440 0h160v-160H620v160ZM180-180h160v-160H180v160Zm440 0h160v-160H620v160Z\"/>\n",
              "  </svg>\n",
              "    </button>\n",
              "\n",
              "  <style>\n",
              "    .colab-df-container {\n",
              "      display:flex;\n",
              "      gap: 12px;\n",
              "    }\n",
              "\n",
              "    .colab-df-convert {\n",
              "      background-color: #E8F0FE;\n",
              "      border: none;\n",
              "      border-radius: 50%;\n",
              "      cursor: pointer;\n",
              "      display: none;\n",
              "      fill: #1967D2;\n",
              "      height: 32px;\n",
              "      padding: 0 0 0 0;\n",
              "      width: 32px;\n",
              "    }\n",
              "\n",
              "    .colab-df-convert:hover {\n",
              "      background-color: #E2EBFA;\n",
              "      box-shadow: 0px 1px 2px rgba(60, 64, 67, 0.3), 0px 1px 3px 1px rgba(60, 64, 67, 0.15);\n",
              "      fill: #174EA6;\n",
              "    }\n",
              "\n",
              "    .colab-df-buttons div {\n",
              "      margin-bottom: 4px;\n",
              "    }\n",
              "\n",
              "    [theme=dark] .colab-df-convert {\n",
              "      background-color: #3B4455;\n",
              "      fill: #D2E3FC;\n",
              "    }\n",
              "\n",
              "    [theme=dark] .colab-df-convert:hover {\n",
              "      background-color: #434B5C;\n",
              "      box-shadow: 0px 1px 3px 1px rgba(0, 0, 0, 0.15);\n",
              "      filter: drop-shadow(0px 1px 2px rgba(0, 0, 0, 0.3));\n",
              "      fill: #FFFFFF;\n",
              "    }\n",
              "  </style>\n",
              "\n",
              "    <script>\n",
              "      const buttonEl =\n",
              "        document.querySelector('#df-399e95ca-fa78-401e-8d6a-5e9500b4fbd5 button.colab-df-convert');\n",
              "      buttonEl.style.display =\n",
              "        google.colab.kernel.accessAllowed ? 'block' : 'none';\n",
              "\n",
              "      async function convertToInteractive(key) {\n",
              "        const element = document.querySelector('#df-399e95ca-fa78-401e-8d6a-5e9500b4fbd5');\n",
              "        const dataTable =\n",
              "          await google.colab.kernel.invokeFunction('convertToInteractive',\n",
              "                                                    [key], {});\n",
              "        if (!dataTable) return;\n",
              "\n",
              "        const docLinkHtml = 'Like what you see? Visit the ' +\n",
              "          '<a target=\"_blank\" href=https://colab.research.google.com/notebooks/data_table.ipynb>data table notebook</a>'\n",
              "          + ' to learn more about interactive tables.';\n",
              "        element.innerHTML = '';\n",
              "        dataTable['output_type'] = 'display_data';\n",
              "        await google.colab.output.renderOutput(dataTable, element);\n",
              "        const docLink = document.createElement('div');\n",
              "        docLink.innerHTML = docLinkHtml;\n",
              "        element.appendChild(docLink);\n",
              "      }\n",
              "    </script>\n",
              "  </div>\n",
              "\n",
              "\n",
              "<div id=\"df-8e065725-ec9e-40aa-b0d5-a30791f92699\">\n",
              "  <button class=\"colab-df-quickchart\" onclick=\"quickchart('df-8e065725-ec9e-40aa-b0d5-a30791f92699')\"\n",
              "            title=\"Suggest charts.\"\n",
              "            style=\"display:none;\">\n",
              "\n",
              "<svg xmlns=\"http://www.w3.org/2000/svg\" height=\"24px\"viewBox=\"0 0 24 24\"\n",
              "     width=\"24px\">\n",
              "    <g>\n",
              "        <path d=\"M19 3H5c-1.1 0-2 .9-2 2v14c0 1.1.9 2 2 2h14c1.1 0 2-.9 2-2V5c0-1.1-.9-2-2-2zM9 17H7v-7h2v7zm4 0h-2V7h2v10zm4 0h-2v-4h2v4z\"/>\n",
              "    </g>\n",
              "</svg>\n",
              "  </button>\n",
              "\n",
              "<style>\n",
              "  .colab-df-quickchart {\n",
              "    background-color: #E8F0FE;\n",
              "    border: none;\n",
              "    border-radius: 50%;\n",
              "    cursor: pointer;\n",
              "    display: none;\n",
              "    fill: #1967D2;\n",
              "    height: 32px;\n",
              "    padding: 0 0 0 0;\n",
              "    width: 32px;\n",
              "  }\n",
              "\n",
              "  .colab-df-quickchart:hover {\n",
              "    background-color: #E2EBFA;\n",
              "    box-shadow: 0px 1px 2px rgba(60, 64, 67, 0.3), 0px 1px 3px 1px rgba(60, 64, 67, 0.15);\n",
              "    fill: #174EA6;\n",
              "  }\n",
              "\n",
              "  [theme=dark] .colab-df-quickchart {\n",
              "    background-color: #3B4455;\n",
              "    fill: #D2E3FC;\n",
              "  }\n",
              "\n",
              "  [theme=dark] .colab-df-quickchart:hover {\n",
              "    background-color: #434B5C;\n",
              "    box-shadow: 0px 1px 3px 1px rgba(0, 0, 0, 0.15);\n",
              "    filter: drop-shadow(0px 1px 2px rgba(0, 0, 0, 0.3));\n",
              "    fill: #FFFFFF;\n",
              "  }\n",
              "</style>\n",
              "\n",
              "  <script>\n",
              "    async function quickchart(key) {\n",
              "      const charts = await google.colab.kernel.invokeFunction(\n",
              "          'suggestCharts', [key], {});\n",
              "    }\n",
              "    (() => {\n",
              "      let quickchartButtonEl =\n",
              "        document.querySelector('#df-8e065725-ec9e-40aa-b0d5-a30791f92699 button');\n",
              "      quickchartButtonEl.style.display =\n",
              "        google.colab.kernel.accessAllowed ? 'block' : 'none';\n",
              "    })();\n",
              "  </script>\n",
              "</div>\n",
              "    </div>\n",
              "  </div>\n"
            ]
          },
          "metadata": {},
          "execution_count": 3
        }
      ]
    },
    {
      "cell_type": "code",
      "source": [
        "len(df0)"
      ],
      "metadata": {
        "colab": {
          "base_uri": "https://localhost:8080/"
        },
        "id": "Tvg1sSdCUYJN",
        "outputId": "2332f011-4b0c-492b-d190-0ee7a1040d6e"
      },
      "execution_count": null,
      "outputs": [
        {
          "output_type": "execute_result",
          "data": {
            "text/plain": [
              "3"
            ]
          },
          "metadata": {},
          "execution_count": 4
        }
      ]
    },
    {
      "cell_type": "code",
      "source": [
        "df0.shape"
      ],
      "metadata": {
        "colab": {
          "base_uri": "https://localhost:8080/"
        },
        "id": "E-aDoHohXPEs",
        "outputId": "30f04514-c20a-4369-dd71-815ebb9db4b7"
      },
      "execution_count": null,
      "outputs": [
        {
          "output_type": "execute_result",
          "data": {
            "text/plain": [
              "(3, 12)"
            ]
          },
          "metadata": {},
          "execution_count": 5
        }
      ]
    },
    {
      "cell_type": "markdown",
      "source": [
        "Change from 1 file into n different digits"
      ],
      "metadata": {
        "id": "5d4twEvrXHyH"
      }
    },
    {
      "cell_type": "code",
      "source": [
        "import numpy as np\n",
        "\n",
        "digit0=np.reshape(np.array(df0),df0.shape)\n",
        "digit1=np.reshape(np.array(df1),df0.shape)\n"
      ],
      "metadata": {
        "id": "s3NuLT6PgKQf"
      },
      "execution_count": null,
      "outputs": []
    },
    {
      "cell_type": "markdown",
      "source": [
        "# Print all digits"
      ],
      "metadata": {
        "id": "Aqcds8AKRZhN"
      }
    },
    {
      "cell_type": "code",
      "source": [
        "import matplotlib.pyplot as plt\n",
        "for i in range (len(df0)):\n",
        "  plt.imshow(np.reshape(digit0[i],[3,4]),cmap='binary')\n",
        "  plt.show()"
      ],
      "metadata": {
        "colab": {
          "base_uri": "https://localhost:8080/",
          "height": 1000
        },
        "id": "uUzkV_TMV8FZ",
        "outputId": "c258f628-065c-4ef8-ee78-8118f74eee2c"
      },
      "execution_count": null,
      "outputs": [
        {
          "output_type": "display_data",
          "data": {
            "text/plain": [
              "<Figure size 640x480 with 1 Axes>"
            ],
            "image/png": "[encoded data removed]"
          },
          "metadata": {}
        },
        {
          "output_type": "display_data",
          "data": {
            "text/plain": [
              "<Figure size 640x480 with 1 Axes>"
            ],
            "image/png": "[encoded data removed]"
          },
          "metadata": {}
        },
        {
          "output_type": "display_data",
          "data": {
            "text/plain": [
              "<Figure size 640x480 with 1 Axes>"
            ],
            "image/png": "[encoded data removed]"
          },
          "metadata": {}
        }
      ]
    },
    {
      "cell_type": "code",
      "source": [
        "import matplotlib.pyplot as plt\n",
        "for i in range (len(df1)):\n",
        "  plt.imshow(np.reshape(digit1[i],[3,4]),cmap='binary')\n",
        "  plt.show()"
      ],
      "metadata": {
        "colab": {
          "base_uri": "https://localhost:8080/",
          "height": 1000
        },
        "id": "_v5WFer0Fm67",
        "outputId": "a8f78bed-8442-4233-884f-329ed3ec7fc3"
      },
      "execution_count": null,
      "outputs": [
        {
          "output_type": "display_data",
          "data": {
            "text/plain": [
              "<Figure size 640x480 with 1 Axes>"
            ],
            "image/png": "[encoded data removed]"
          },
          "metadata": {}
        },
        {
          "output_type": "display_data",
          "data": {
            "text/plain": [
              "<Figure size 640x480 with 1 Axes>"
            ],
            "image/png": "[encoded data removed]"
          },
          "metadata": {}
        },
        {
          "output_type": "display_data",
          "data": {
            "text/plain": [
              "<Figure size 640x480 with 1 Axes>"
            ],
            "image/png": "[encoded data removed]"
          },
          "metadata": {}
        }
      ]
    },
    {
      "cell_type": "markdown",
      "source": [
        "# Calculate Likelihood\n"
      ],
      "metadata": {
        "id": "UcAhrL3zX1o8"
      }
    },
    {
      "cell_type": "markdown",
      "source": [
        "P(px=**1**|digit0)"
      ],
      "metadata": {
        "id": "1UxsP-wVYXZO"
      }
    },
    {
      "cell_type": "code",
      "source": [
        "P1_0=sum(digit0)/len(digit0)\n",
        "print(np.reshape(P1_0,[3,4]))"
      ],
      "metadata": {
        "colab": {
          "base_uri": "https://localhost:8080/"
        },
        "id": "VvS-8OlpwQyU",
        "outputId": "9d3b0bb2-1989-426c-d437-cf996c7e5b83"
      },
      "execution_count": null,
      "outputs": [
        {
          "output_type": "stream",
          "name": "stdout",
          "text": [
            "[[0.66666667 1.         1.         0.33333333]\n",
            " [1.         0.         0.         1.        ]\n",
            " [0.33333333 1.         1.         0.66666667]]\n"
          ]
        }
      ]
    },
    {
      "cell_type": "code",
      "source": [
        "print(1-P1_0)"
      ],
      "metadata": {
        "colab": {
          "base_uri": "https://localhost:8080/"
        },
        "id": "4FFZuWmWyWsV",
        "outputId": "de7d34ad-5688-4f23-e96d-72ec9e72c8c0"
      },
      "execution_count": null,
      "outputs": [
        {
          "output_type": "stream",
          "name": "stdout",
          "text": [
            "[0.33333333 0.         0.         0.66666667 0.         1.\n",
            " 1.         0.         0.66666667 0.         0.         0.33333333]\n"
          ]
        }
      ]
    },
    {
      "cell_type": "code",
      "source": [
        "P0_0=sum(1-digit0)/len(digit0)\n",
        "print(np.reshape(P0_0,[3,4]))"
      ],
      "metadata": {
        "colab": {
          "base_uri": "https://localhost:8080/"
        },
        "id": "mGDu31xuwlpN",
        "outputId": "a09aa915-c1fc-415d-ff57-f866d458137d"
      },
      "execution_count": null,
      "outputs": [
        {
          "output_type": "stream",
          "name": "stdout",
          "text": [
            "[[0.33333333 0.         0.         0.66666667]\n",
            " [0.         1.         1.         0.        ]\n",
            " [0.66666667 0.         0.         0.33333333]]\n"
          ]
        }
      ]
    },
    {
      "cell_type": "code",
      "source": [
        "P1_0=sum(digit0)/len(digit0)\n",
        "\n",
        "print(np.reshape(P1_0,[3,4]))"
      ],
      "metadata": {
        "colab": {
          "base_uri": "https://localhost:8080/"
        },
        "id": "XwAuJqy1Fuu1",
        "outputId": "60785ce5-a8dc-41fe-dde4-23c23e19c89e"
      },
      "execution_count": null,
      "outputs": [
        {
          "output_type": "stream",
          "name": "stdout",
          "text": [
            "[[0.66666667 1.         1.         0.33333333]\n",
            " [1.         0.         0.         1.        ]\n",
            " [0.33333333 1.         1.         0.66666667]]\n"
          ]
        }
      ]
    },
    {
      "cell_type": "code",
      "source": [
        "print(np.reshape(P0_0,[3,4]))"
      ],
      "metadata": {
        "colab": {
          "base_uri": "https://localhost:8080/"
        },
        "id": "YPBcXtyrp_W-",
        "outputId": "3c0c0817-e1ca-4688-ecb2-f3200c03a13c"
      },
      "execution_count": null,
      "outputs": [
        {
          "output_type": "stream",
          "name": "stdout",
          "text": [
            "[[0.33333333 0.         0.         0.66666667]\n",
            " [0.         1.         1.         0.        ]\n",
            " [0.66666667 0.         0.         0.33333333]]\n"
          ]
        }
      ]
    },
    {
      "cell_type": "markdown",
      "source": [
        "# Task 1\n",
        "\n",
        "Find Likelihood of digit1"
      ],
      "metadata": {
        "id": "2cd4ALUqZXGZ"
      }
    },
    {
      "cell_type": "code",
      "source": [
        "P1_1=sum(digit1)/len(digit1)\n",
        "print(np.reshape(P1_1,[3,4]))"
      ],
      "metadata": {
        "colab": {
          "base_uri": "https://localhost:8080/"
        },
        "id": "oB6q5E4WZdMH",
        "outputId": "7eb7f5fe-2e36-4f13-c856-b658f7deb9b5"
      },
      "execution_count": null,
      "outputs": [
        {
          "output_type": "stream",
          "name": "stdout",
          "text": [
            "[[0.         0.66666667 0.33333333 0.33333333]\n",
            " [0.         0.         0.66666667 0.33333333]\n",
            " [0.33333333 0.33333333 0.33333333 1.        ]]\n"
          ]
        }
      ]
    },
    {
      "cell_type": "code",
      "source": [
        "P0_1=sum(1-digit1)/len(digit1)\n",
        "print(np.reshape(P0_1,[3,4]))"
      ],
      "metadata": {
        "colab": {
          "base_uri": "https://localhost:8080/"
        },
        "id": "2Tv-mfDJZ1IC",
        "outputId": "d057eb16-a8a2-4e14-ecbc-c7b7711904e1"
      },
      "execution_count": null,
      "outputs": [
        {
          "output_type": "stream",
          "name": "stdout",
          "text": [
            "[[1.         0.33333333 0.66666667 0.66666667]\n",
            " [1.         1.         0.33333333 0.66666667]\n",
            " [0.66666667 0.66666667 0.66666667 0.        ]]\n"
          ]
        }
      ]
    },
    {
      "cell_type": "markdown",
      "source": [
        "\n",
        "\n",
        "# Task2\n",
        "Estimate the whole probability of each digit\n",
        "\n"
      ],
      "metadata": {
        "id": "9XC3BAK8ZcZl"
      }
    },
    {
      "cell_type": "code",
      "source": [
        "P0=0.5"
      ],
      "metadata": {
        "id": "3M1mbGvUZnqZ"
      },
      "execution_count": null,
      "outputs": []
    },
    {
      "cell_type": "code",
      "source": [
        "P1=0.5"
      ],
      "metadata": {
        "id": "9JugLtH1qZA8"
      },
      "execution_count": null,
      "outputs": []
    },
    {
      "cell_type": "markdown",
      "source": [
        "Prob(0|digit) = p(digit|0)P(0)/( p(digit|0)P(0) +  p(digit|1)P(1))"
      ],
      "metadata": {
        "id": "nKl-rz8XqmyE"
      }
    },
    {
      "cell_type": "code",
      "source": [
        "plt.imshow(np.reshape(digit0[0],[3,4]),cmap='binary')"
      ],
      "metadata": {
        "colab": {
          "base_uri": "https://localhost:8080/",
          "height": 453
        },
        "id": "Agiq6RGlr01G",
        "outputId": "ff1997c1-637e-4522-897c-17033720ebf7"
      },
      "execution_count": null,
      "outputs": [
        {
          "output_type": "execute_result",
          "data": {
            "text/plain": [
              "<matplotlib.image.AxesImage at 0x79d8d4252860>"
            ]
          },
          "metadata": {},
          "execution_count": 18
        },
        {
          "output_type": "display_data",
          "data": {
            "text/plain": [
              "<Figure size 640x480 with 1 Axes>"
            ],
            "image/png": "[encoded data removed]"
          },
          "metadata": {}
        }
      ]
    },
    {
      "cell_type": "code",
      "source": [
        "digit0[0]"
      ],
      "metadata": {
        "colab": {
          "base_uri": "https://localhost:8080/"
        },
        "id": "PvE1QOQVupLt",
        "outputId": "9a75b491-08fc-4163-a5c5-ac737ede481b"
      },
      "execution_count": null,
      "outputs": [
        {
          "output_type": "execute_result",
          "data": {
            "text/plain": [
              "array([0, 1, 1, 0, 1, 0, 0, 1, 0, 1, 1, 0])"
            ]
          },
          "metadata": {},
          "execution_count": 19
        }
      ]
    },
    {
      "cell_type": "code",
      "source": [
        "P1_0"
      ],
      "metadata": {
        "colab": {
          "base_uri": "https://localhost:8080/"
        },
        "id": "q9iYOlLPvwn5",
        "outputId": "cfb92124-6294-47c9-a335-e7943e70cb35"
      },
      "execution_count": null,
      "outputs": [
        {
          "output_type": "execute_result",
          "data": {
            "text/plain": [
              "array([0.66666667, 1.        , 1.        , 0.33333333, 1.        ,\n",
              "       0.        , 0.        , 1.        , 0.33333333, 1.        ,\n",
              "       1.        , 0.66666667])"
            ]
          },
          "metadata": {},
          "execution_count": 20
        }
      ]
    },
    {
      "cell_type": "code",
      "source": [
        "prob0=np.prod(digit0[0]*P1_0 +(1- digit0[0])*(1-P1_0) )"
      ],
      "metadata": {
        "id": "csYzNaE2usSV"
      },
      "execution_count": null,
      "outputs": []
    },
    {
      "cell_type": "code",
      "source": [
        "print(prob0)"
      ],
      "metadata": {
        "colab": {
          "base_uri": "https://localhost:8080/"
        },
        "id": "8Q8uXUP6vnFy",
        "outputId": "2dac906f-7453-4a5d-87c4-c63342afa22b"
      },
      "execution_count": null,
      "outputs": [
        {
          "output_type": "stream",
          "name": "stdout",
          "text": [
            "0.049382716049382734\n"
          ]
        }
      ]
    },
    {
      "cell_type": "markdown",
      "source": [
        "p(digit|0)"
      ],
      "metadata": {
        "id": "ilP6UIxu132E"
      }
    },
    {
      "cell_type": "code",
      "source": [
        "prob0=1\n",
        "for i in range(3*4):\n",
        "  if(digit0[0][i] ==1):\n",
        "      prob0= prob0*P1_0[i]\n",
        "  else:\n",
        "      prob0=prob0*(1-P1_0[i])\n",
        "print(prob0)"
      ],
      "metadata": {
        "colab": {
          "base_uri": "https://localhost:8080/"
        },
        "id": "oeJVAgYXr5XN",
        "outputId": "d10be51a-f393-4baf-bc7f-fb91ddbc4a75"
      },
      "execution_count": null,
      "outputs": [
        {
          "output_type": "stream",
          "name": "stdout",
          "text": [
            "0.049382716049382734\n"
          ]
        }
      ]
    },
    {
      "cell_type": "markdown",
      "source": [
        "p(digit|1)"
      ],
      "metadata": {
        "id": "-4esGA2K17pG"
      }
    },
    {
      "cell_type": "code",
      "source": [
        "prob1=1\n",
        "for i in range(3*4):\n",
        "  if(digit0[0][i] ==1):\n",
        "      prob1= prob1*P1_1[i]\n",
        "  else:\n",
        "      prob1=prob1*(1-P1_1[i])\n",
        "print(prob1)"
      ],
      "metadata": {
        "colab": {
          "base_uri": "https://localhost:8080/"
        },
        "id": "kDTPr9HH1tVd",
        "outputId": "96382c90-3571-43b9-d501-3ffbe1def94a"
      },
      "execution_count": null,
      "outputs": [
        {
          "output_type": "stream",
          "name": "stdout",
          "text": [
            "0.0\n"
          ]
        }
      ]
    },
    {
      "cell_type": "markdown",
      "source": [
        "Prob(0|digit) = p(digit|0)P(0)/( p(digit|0)P(0) +  p(digit|1)P(1))\n",
        "\n",
        "```\n",
        "# This is formatted as code\n",
        "```\n",
        "\n"
      ],
      "metadata": {
        "id": "i7vhXsn2sAEc"
      }
    },
    {
      "cell_type": "code",
      "source": [
        "prob_digit00=prob0*P0/(prob0*P0+prob1*P1)\n",
        "print(prob_digit00)"
      ],
      "metadata": {
        "colab": {
          "base_uri": "https://localhost:8080/"
        },
        "id": "x-TqQYN_1_-k",
        "outputId": "38ff5237-26b7-44b6-b622-ceee4718bd1f"
      },
      "execution_count": null,
      "outputs": [
        {
          "output_type": "stream",
          "name": "stdout",
          "text": [
            "1.0\n"
          ]
        }
      ]
    },
    {
      "cell_type": "code",
      "source": [
        "prob0=np.prod(digit0[0]*P1_0 +(1- digit0[0])*(1-P1_0) )\n",
        "print(prob0)"
      ],
      "metadata": {
        "id": "1bpEZO7zZ-y2",
        "colab": {
          "base_uri": "https://localhost:8080/"
        },
        "outputId": "97fefc8e-daa7-4dc2-8e6c-bf05cba82419"
      },
      "execution_count": null,
      "outputs": [
        {
          "output_type": "stream",
          "name": "stdout",
          "text": [
            "0.049382716049382734\n"
          ]
        }
      ]
    },
    {
      "cell_type": "code",
      "source": [
        "prob1=np.prod(digit0[0]*P1_1 +(1- digit0[0])*(1-P1_1) )\n",
        "print(prob1)"
      ],
      "metadata": {
        "id": "kRPLC7LtaF6x",
        "colab": {
          "base_uri": "https://localhost:8080/"
        },
        "outputId": "2277aa66-cfd6-4e41-afb6-472161aafbc3"
      },
      "execution_count": null,
      "outputs": [
        {
          "output_type": "stream",
          "name": "stdout",
          "text": [
            "0.0\n"
          ]
        }
      ]
    },
    {
      "cell_type": "code",
      "source": [
        "prob_digit0_0=prob0*P0/(prob0*P0+prob1*P1)\n",
        "print(prob_digit0_0)"
      ],
      "metadata": {
        "colab": {
          "base_uri": "https://localhost:8080/"
        },
        "id": "sqrP_Aytyxsc",
        "outputId": "4e0e3c80-35c7-47db-c71e-cc129edcc6ac"
      },
      "execution_count": null,
      "outputs": [
        {
          "output_type": "stream",
          "name": "stdout",
          "text": [
            "1.0\n"
          ]
        }
      ]
    },
    {
      "cell_type": "markdown",
      "source": [
        "## P(0|digit) =p(digit|0)*p(0) / p(digit)"
      ],
      "metadata": {
        "id": "SH1FJUWHaIkS"
      }
    },
    {
      "cell_type": "markdown",
      "source": [
        "#Task 3\n",
        "\n",
        "Create 3 new digits\n",
        "Estimate if it's 0 or 1?\n",
        "\n",
        "```\n",
        "```\n",
        "\n"
      ],
      "metadata": {
        "id": "wdr-nIEGZoZj"
      }
    },
    {
      "cell_type": "markdown",
      "source": [
        "## P1_0 ==> P(px=1|0)\n",
        "## P0_0==> p(px=0|0) =1-P(px=1|0)\n",
        "## P1_1 ==>P(px=1|1)\n",
        "## P1_0==> p(px=0|1) =1-P(px=1|1)"
      ],
      "metadata": {
        "id": "tUKXvJSUSAOg"
      }
    },
    {
      "cell_type": "code",
      "source": [
        "prob0=np.ones(len(digit0))\n",
        "prob1=np.ones(len(digit1))\n",
        "print(prob1)"
      ],
      "metadata": {
        "colab": {
          "base_uri": "https://localhost:8080/"
        },
        "id": "moyZKIb7TShV",
        "outputId": "ac0ebc97-2d28-478a-cddd-b095402cb9c9"
      },
      "execution_count": null,
      "outputs": [
        {
          "output_type": "stream",
          "name": "stdout",
          "text": [
            "[1. 1. 1.]\n"
          ]
        }
      ]
    },
    {
      "cell_type": "markdown",
      "source": [
        "Option 1 Using for loop"
      ],
      "metadata": {
        "id": "HJ1BNRVCTBxf"
      }
    },
    {
      "cell_type": "code",
      "source": [
        "for x in range(len(digit0)):\n",
        "  for i in range(3*4):\n",
        "    if(digit0[x][i] ==1):\n",
        "      prob0[x]= prob0[x]*P1_0[i]\n",
        "      prob1[x]= prob1[x]*P1_1[i]\n",
        "    else:\n",
        "      prob0[x]=prob0[x]*(1-P1_0[i])\n",
        "      prob1[x]=prob1[x]*(1-P1_1[i])\n",
        "\n",
        "  print('P(0|x) of '+ str(x) + ' is ' + str(prob0[x]*P0/(prob0[x]*P0 +prob1[x]*P1)))"
      ],
      "metadata": {
        "colab": {
          "base_uri": "https://localhost:8080/"
        },
        "id": "J_7XVd6gSYsQ",
        "outputId": "72fc7b7d-529c-4f74-a020-2e1adbb855a1"
      },
      "execution_count": null,
      "outputs": [
        {
          "output_type": "stream",
          "name": "stdout",
          "text": [
            "P(0|x) of 0 is 1.0\n",
            "P(0|x) of 1 is 1.0\n",
            "P(0|x) of 2 is 1.0\n"
          ]
        }
      ]
    },
    {
      "cell_type": "code",
      "source": [
        "prob0=np.ones(len(digit0))\n",
        "prob1=np.ones(len(digit1))\n",
        "print(prob1)"
      ],
      "metadata": {
        "colab": {
          "base_uri": "https://localhost:8080/"
        },
        "id": "E9lCq2giWkso",
        "outputId": "c18465d0-7c63-42a6-e749-8280bd0453a1"
      },
      "execution_count": null,
      "outputs": [
        {
          "output_type": "stream",
          "name": "stdout",
          "text": [
            "[1. 1. 1.]\n"
          ]
        }
      ]
    },
    {
      "cell_type": "code",
      "source": [
        "for x in range(len(digit1)):\n",
        "  for i in range(3*4):\n",
        "    if(digit1[x][i] ==1):\n",
        "      prob0[x]= prob0[x]*P1_0[i]\n",
        "      prob1[x]= prob1[x]*P1_1[i]\n",
        "    else:\n",
        "      prob0[x]=prob0[x]*(1-P1_0[i])\n",
        "      prob1[x]=prob1[x]*(1-P1_1[i])\n",
        "\n",
        "  print('P(1|x) of '+ str(x) + ' is ' + str(prob1[x]*P1/(prob0[x]*P0 +prob1[x]*P1)))"
      ],
      "metadata": {
        "id": "TJShKVc_zXTe",
        "colab": {
          "base_uri": "https://localhost:8080/"
        },
        "outputId": "ee0581af-e9ee-4469-ec36-992cdb321021"
      },
      "execution_count": null,
      "outputs": [
        {
          "output_type": "stream",
          "name": "stdout",
          "text": [
            "P(1|x) of 0 is 1.0\n",
            "P(1|x) of 1 is 1.0\n",
            "P(1|x) of 2 is 1.0\n"
          ]
        }
      ]
    },
    {
      "cell_type": "markdown",
      "source": [
        "Option2"
      ],
      "metadata": {
        "id": "sen9AGeUXsC6"
      }
    },
    {
      "cell_type": "code",
      "source": [
        "digit=np.concatenate((digit0 ,digit1))"
      ],
      "metadata": {
        "id": "EppqJQbKWWNn"
      },
      "execution_count": null,
      "outputs": []
    },
    {
      "cell_type": "code",
      "source": [
        "print(digit)"
      ],
      "metadata": {
        "colab": {
          "base_uri": "https://localhost:8080/"
        },
        "id": "pIm1CaXlXvnS",
        "outputId": "7918bc08-cbd3-4da8-d197-fb6d2590107f"
      },
      "execution_count": null,
      "outputs": [
        {
          "output_type": "stream",
          "name": "stdout",
          "text": [
            "[[0 1 1 0 1 0 0 1 0 1 1 0]\n",
            " [1 1 1 1 1 0 0 1 1 1 1 1]\n",
            " [1 1 1 0 1 0 0 1 0 1 1 1]\n",
            " [0 0 0 1 0 0 0 1 0 0 0 1]\n",
            " [0 1 0 0 0 0 1 0 0 0 0 1]\n",
            " [0 1 1 0 0 0 1 0 1 1 1 1]]\n"
          ]
        }
      ]
    },
    {
      "cell_type": "code",
      "source": [
        "p0_all=np.ones(len(digit))\n",
        "p1_all=np.ones(len(digit))"
      ],
      "metadata": {
        "id": "gIvcDqI3YkG2"
      },
      "execution_count": null,
      "outputs": []
    },
    {
      "cell_type": "code",
      "source": [
        "print(p0_all)"
      ],
      "metadata": {
        "colab": {
          "base_uri": "https://localhost:8080/"
        },
        "id": "AG9qumaliEDN",
        "outputId": "ad7d7aea-18c2-49bc-c7a9-d96e6186b28d"
      },
      "execution_count": null,
      "outputs": [
        {
          "output_type": "stream",
          "name": "stdout",
          "text": [
            "[1. 1. 1. 1. 1. 1.]\n"
          ]
        }
      ]
    },
    {
      "cell_type": "code",
      "source": [
        "digit*P1_1+(1-digit)*(1-P1_0)"
      ],
      "metadata": {
        "colab": {
          "base_uri": "https://localhost:8080/"
        },
        "id": "1ahpj7M2gTsD",
        "outputId": "f1c2a9e7-381f-4ea5-c7c5-e4b575a00055"
      },
      "execution_count": null,
      "outputs": [
        {
          "output_type": "execute_result",
          "data": {
            "text/plain": [
              "array([[0.33333333, 0.66666667, 0.33333333, 0.66666667, 0.        ,\n",
              "        1.        , 1.        , 0.33333333, 0.66666667, 0.33333333,\n",
              "        0.33333333, 0.33333333],\n",
              "       [0.        , 0.66666667, 0.33333333, 0.33333333, 0.        ,\n",
              "        1.        , 1.        , 0.33333333, 0.33333333, 0.33333333,\n",
              "        0.33333333, 1.        ],\n",
              "       [0.        , 0.66666667, 0.33333333, 0.66666667, 0.        ,\n",
              "        1.        , 1.        , 0.33333333, 0.66666667, 0.33333333,\n",
              "        0.33333333, 1.        ],\n",
              "       [0.33333333, 0.        , 0.        , 0.33333333, 0.        ,\n",
              "        1.        , 1.        , 0.33333333, 0.66666667, 0.        ,\n",
              "        0.        , 1.        ],\n",
              "       [0.33333333, 0.66666667, 0.        , 0.66666667, 0.        ,\n",
              "        1.        , 0.66666667, 0.        , 0.66666667, 0.        ,\n",
              "        0.        , 1.        ],\n",
              "       [0.33333333, 0.66666667, 0.33333333, 0.66666667, 0.        ,\n",
              "        1.        , 0.66666667, 0.        , 0.33333333, 0.33333333,\n",
              "        0.33333333, 1.        ]])"
            ]
          },
          "metadata": {},
          "execution_count": 50
        }
      ]
    },
    {
      "cell_type": "code",
      "source": [
        "\n",
        "p0_all= np.product(digit*P1_0+(1-digit)*(1-P1_0),axis=1)\n"
      ],
      "metadata": {
        "id": "CezDXT7nXz0k"
      },
      "execution_count": null,
      "outputs": []
    },
    {
      "cell_type": "code",
      "source": [
        "p1_all= np.product(digit*P1_1+(1-digit)*(1-P1_1),axis=1)\n"
      ],
      "metadata": {
        "id": "BuUNinrUZac9"
      },
      "execution_count": null,
      "outputs": []
    },
    {
      "cell_type": "code",
      "source": [
        "prob0_all=p0_all*P0/(p0_all*P0+p1_all*P1)\n",
        "prob1_all=p1_all*P0/(p0_all*P0+p1_all*P1)\n",
        "print(prob0_all)\n",
        "print(prob1_all)"
      ],
      "metadata": {
        "colab": {
          "base_uri": "https://localhost:8080/"
        },
        "id": "ID52OSsPgtXH",
        "outputId": "801386c4-4cb0-4feb-c5a5-5620b7a4729a"
      },
      "execution_count": null,
      "outputs": [
        {
          "output_type": "stream",
          "name": "stdout",
          "text": [
            "[1. 1. 1. 0. 0. 0.]\n",
            "[0. 0. 0. 1. 1. 1.]\n"
          ]
        }
      ]
    },
    {
      "cell_type": "code",
      "source": [],
      "metadata": {
        "id": "y5LZGX37gy3Q"
      },
      "execution_count": null,
      "outputs": []
    }
  ]
}